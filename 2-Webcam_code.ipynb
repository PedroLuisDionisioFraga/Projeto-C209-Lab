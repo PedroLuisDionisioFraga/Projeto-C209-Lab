{
 "cells": [
  {
   "cell_type": "code",
   "execution_count": 10,
   "id": "c87eea9b",
   "metadata": {},
   "outputs": [],
   "source": [
    "import matplotlib.pyplot as plt\n",
    "import numpy as np\n",
    "from PIL import Image"
   ]
  },
  {
   "cell_type": "code",
   "execution_count": 13,
   "id": "75cec0fa",
   "metadata": {},
   "outputs": [],
   "source": [
    "import cv2\n",
    "from matplotlib import pyplot as plt\n",
    "\n",
    "arqCasc1 = 'haarcascade_frontalface_default.xml'\n",
    "arqCasc2 = 'haarcascade_eye.xml'\n",
    "\n",
    "faceCascade1 = cv2.CascadeClassifier(arqCasc1)  # Classificador para o rosto\n",
    "faceCascade2 = cv2.CascadeClassifier(arqCasc2)  # Classificador para os eyes\n",
    "\n",
    "webcam = cv2.VideoCapture(0)  # Instancia o uso da webcam\n",
    "\n",
    "while True:\n",
    "    # Pega efeticamente a imagem da webcam\n",
    "    s, imagem = webcam.read()\n",
    "    # Espelhando a imagem\n",
    "    imagem = cv2.flip(imagem, 180)\n",
    "\n",
    "    # Onde ocorre a detecção de rostos\n",
    "    faces = faceCascade1.detectMultiScale(\n",
    "        imagem,\n",
    "        minNeighbors=20,\n",
    "        minSize=(30, 30),\n",
    "\t    maxSize=(300, 300)\n",
    "    )\n",
    "\n",
    "    # Onde ocorre a detecção de rostos\n",
    "    eyes = faceCascade2.detectMultiScale(\n",
    "        imagem,\n",
    "        minNeighbors=20,\n",
    "        minSize=(10, 10),\n",
    "\t    maxSize=(90, 90)\n",
    "    )\n",
    "\n",
    "    # Desenha um retângulo nas faces e olhos detectados\n",
    "    for (x, y, w, h) in faces:\n",
    "        cv2.rectangle(imagem, (x, y), (x + w, y + h), (0, 255, 0), 4)\n",
    "\n",
    "    for (x, y, w, h) in eyes:\n",
    "        cv2.rectangle(imagem, (x, y), (x + w, y + h), (255, 0, 0), 2)\n",
    "\n",
    "    cv2.imshow('Video', imagem)  # Mostra a imagem captura na janela\n",
    "\n",
    "    # O trecho seguinte e apenas para parar o código e fechar a janela\n",
    "    if cv2.waitKey(1) & 0xFF == ord('q'):\n",
    "        break\n",
    "\n",
    "webcam.release()\n",
    "cv2.destroyAllWindows()  # Fecha todas a janelas abertas"
   ]
  }
 ],
 "metadata": {
  "kernelspec": {
   "display_name": "Python 3 (ipykernel)",
   "language": "python",
   "name": "python3"
  },
  "language_info": {
   "codemirror_mode": {
    "name": "ipython",
    "version": 3
   },
   "file_extension": ".py",
   "mimetype": "text/x-python",
   "name": "python",
   "nbconvert_exporter": "python",
   "pygments_lexer": "ipython3",
   "version": "3.8.0"
  }
 },
 "nbformat": 4,
 "nbformat_minor": 5
}
